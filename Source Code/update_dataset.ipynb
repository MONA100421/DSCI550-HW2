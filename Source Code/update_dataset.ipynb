{
 "cells": [
  {
   "cell_type": "code",
   "execution_count": 2,
   "id": "8b250995-68d6-4c46-bd58-c0797a846ed2",
   "metadata": {},
   "outputs": [
    {
     "name": "stdout",
     "output_type": "stream",
     "text": [
      "Data merged and saved to: ../Data/haunted_places_final_v2.tsv\n"
     ]
    }
   ],
   "source": [
    "import pandas as pd\n",
    "\n",
    "# Define paths\n",
    "base_path = '../Data/'\n",
    "file_main = base_path + 'haunted_places_v2_with_objects.tsv'\n",
    "file_entities = base_path + 'merged_data_v2_with_entities.tsv'\n",
    "file_geoparsed = base_path + 'haunted_places_geoparsed.csv'\n",
    "output_file = base_path + 'haunted_places_final_v2.tsv'\n",
    "\n",
    "# Read datasets\n",
    "df_main = pd.read_csv(file_main, sep='\\t')\n",
    "df_entities = pd.read_csv(file_entities, sep='\\t', usecols=['Named_Entities'])\n",
    "df_geo = pd.read_csv(file_geoparsed, usecols=['lat', 'lon'])\n",
    "\n",
    "# Check that they all have the same number of rows\n",
    "assert len(df_main) == len(df_entities) == len(df_geo), \"Row count mismatch between datasets.\"\n",
    "\n",
    "# Merge columns\n",
    "df_merged = pd.concat([df_main, df_entities, df_geo], axis=1)\n",
    "\n",
    "# Save as TSV\n",
    "df_merged.to_csv(output_file, sep='\\t', index=False)\n",
    "\n",
    "print(f\"Data merged and saved to: {output_file}\")\n"
   ]
  },
  {
   "cell_type": "code",
   "execution_count": null,
   "id": "72afac24-0139-46af-a5ca-38b570319348",
   "metadata": {},
   "outputs": [],
   "source": []
  }
 ],
 "metadata": {
  "kernelspec": {
   "display_name": "Python 3 (ipykernel)",
   "language": "python",
   "name": "python3"
  },
  "language_info": {
   "codemirror_mode": {
    "name": "ipython",
    "version": 3
   },
   "file_extension": ".py",
   "mimetype": "text/x-python",
   "name": "python",
   "nbconvert_exporter": "python",
   "pygments_lexer": "ipython3",
   "version": "3.12.2"
  }
 },
 "nbformat": 4,
 "nbformat_minor": 5
}
